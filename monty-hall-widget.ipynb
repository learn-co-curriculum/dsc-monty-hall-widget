{
 "cells": [
  {
   "cell_type": "code",
   "execution_count": 1,
   "metadata": {},
   "outputs": [
    {
     "data": {
      "application/vnd.jupyter.widget-view+json": {
       "model_id": "93a269c4dce64b60bab96a000ec1cd85",
       "version_major": 2,
       "version_minor": 0
      },
      "text/plain": [
       "interactive(children=(Checkbox(value=True, description='Stay'), IntSlider(value=50000, description='Attempts',…"
      ]
     },
     "metadata": {},
     "output_type": "display_data"
    },
    {
     "data": {
      "text/plain": [
       "<function __main__.monty_hall(Stay, Attempts)>"
      ]
     },
     "execution_count": 1,
     "metadata": {},
     "output_type": "execute_result"
    }
   ],
   "source": [
    "from ipywidgets import interact\n",
    "import numpy as np\n",
    "import random\n",
    "import nbinteract as nbi\n",
    "\n",
    "def monty_hall(Stay, Attempts):\n",
    "    stay = []\n",
    "    switch = []\n",
    "    for i in range(Attempts):\n",
    "        car_door = np.random.randint(1,4)\n",
    "        contestant_selection = np.random.randint(1,4)\n",
    "        remaining_goats = [door for door in [1,2,3] if door!= car_door and door != contestant_selection]\n",
    "        door_revealed = np.random.choice(remaining_goats)\n",
    "        if_switch = [door for door in [1,2,3] if door != contestant_selection and door != door_revealed][0]\n",
    "        # Record results if contestant changes door selection\n",
    "        if if_switch == car_door:\n",
    "            switch.append(1)\n",
    "        else:\n",
    "            switch.append(0)\n",
    "        # Record results if contestant keep door selection\n",
    "        if contestant_selection == car_door:\n",
    "            stay.append(1)\n",
    "        else:\n",
    "            stay.append(0)\n",
    "    \n",
    "    stay_perc = round((np.mean(stay)*100), 2)\n",
    "    switch_perc = round((np.mean(switch)*100), 2)\n",
    "    \n",
    "    print('Simulated Probabilities:')\n",
    "    print(stay_perc,'%', 'Chance of Winning Keeping Door Selection: ')\n",
    "    print(switch_perc,'%', 'Chance of Winning Switching Door Selection: ')\n",
    "    \n",
    "    if Stay: print('You chose to stay, so your chance of winning is', stay_perc,'%')\n",
    "    \n",
    "    else: print('You chose to switch, so your chance of winning is', switch_perc,'%')\n",
    "\n",
    "interact(monty_hall, Stay=True, Attempts=(100, 100000, 100));"
   ]
  }
 ],
 "metadata": {
  "kernelspec": {
   "display_name": "Python 3",
   "language": "python",
   "name": "python3"
  },
  "language_info": {
   "codemirror_mode": {
    "name": "ipython",
    "version": 3
   },
   "file_extension": ".py",
   "mimetype": "text/x-python",
   "name": "python",
   "nbconvert_exporter": "python",
   "pygments_lexer": "ipython3",
   "version": "3.7.8"
  }
 },
 "nbformat": 4,
 "nbformat_minor": 4
}
